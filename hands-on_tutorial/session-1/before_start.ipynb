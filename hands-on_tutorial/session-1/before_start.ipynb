{
 "cells": [
  {
   "cell_type": "markdown",
   "metadata": {},
   "source": [
    "# Preliminary work\n",
    "The session showcases how to infer activities of transcription factor from single cell RNA-seq data and spatial transcriptomics data using three method. Please follow this notebook after you have [set up the environment](https://github.com/osmanbeyoglulab/Tutorials-on-ISMB-2024?tab=readme-ov-file#environment-set-up)."
   ]
  },
  {
   "cell_type": "code",
   "execution_count": 1,
   "metadata": {},
   "outputs": [],
   "source": [
    "import scanpy as sc\n",
    "import warnings\n",
    "warnings.filterwarnings(\"ignore\")"
   ]
  },
  {
   "cell_type": "markdown",
   "metadata": {},
   "source": [
    "## Downloading datasets\n",
    "The following datasets will be used for demonstration, which can be downloaded via `scanpy` to the directory `data`."
   ]
  },
  {
   "cell_type": "code",
   "execution_count": 2,
   "metadata": {},
   "outputs": [
    {
     "name": "stdout",
     "output_type": "stream",
     "text": [
      "WARNING: Failed to open the url with default certificates, trying with certifi.\n"
     ]
    },
    {
     "name": "stderr",
     "output_type": "stream",
     "text": [
      "100%|██████████| 5.58M/5.58M [00:05<00:00, 1.05MB/s]\n"
     ]
    },
    {
     "data": {
      "text/plain": [
       "AnnData object with n_obs × n_vars = 2700 × 32738\n",
       "    var: 'gene_ids'"
      ]
     },
     "execution_count": 2,
     "metadata": {},
     "output_type": "execute_result"
    }
   ],
   "source": [
    "sc.datasets.pbmc3k()"
   ]
  },
  {
   "cell_type": "code",
   "execution_count": 3,
   "metadata": {},
   "outputs": [
    {
     "name": "stdout",
     "output_type": "stream",
     "text": [
      "WARNING: Failed to open the url with default certificates, trying with certifi.\n"
     ]
    },
    {
     "name": "stderr",
     "output_type": "stream",
     "text": [
      "100%|██████████| 23.5M/23.5M [00:04<00:00, 5.47MB/s]\n"
     ]
    },
    {
     "data": {
      "text/plain": [
       "AnnData object with n_obs × n_vars = 2638 × 1838\n",
       "    obs: 'n_genes', 'percent_mito', 'n_counts', 'louvain'\n",
       "    var: 'n_cells'\n",
       "    uns: 'draw_graph', 'louvain', 'louvain_colors', 'neighbors', 'pca', 'rank_genes_groups'\n",
       "    obsm: 'X_pca', 'X_tsne', 'X_umap', 'X_draw_graph_fr'\n",
       "    varm: 'PCs'\n",
       "    obsp: 'distances', 'connectivities'"
      ]
     },
     "execution_count": 3,
     "metadata": {},
     "output_type": "execute_result"
    }
   ],
   "source": [
    "sc.datasets.pbmc3k_processed()"
   ]
  },
  {
   "cell_type": "code",
   "execution_count": 4,
   "metadata": {},
   "outputs": [
    {
     "name": "stdout",
     "output_type": "stream",
     "text": [
      "WARNING: Failed to open the url with default certificates, trying with certifi.\n"
     ]
    },
    {
     "name": "stderr",
     "output_type": "stream",
     "text": [
      "100%|██████████| 7.86M/7.86M [00:01<00:00, 6.36MB/s]\n"
     ]
    },
    {
     "name": "stdout",
     "output_type": "stream",
     "text": [
      "WARNING: Failed to open the url with default certificates, trying with certifi.\n"
     ]
    },
    {
     "name": "stderr",
     "output_type": "stream",
     "text": [
      "100%|██████████| 29.3M/29.3M [00:03<00:00, 8.41MB/s]\n"
     ]
    },
    {
     "data": {
      "text/plain": [
       "AnnData object with n_obs × n_vars = 4035 × 36601\n",
       "    obs: 'in_tissue', 'array_row', 'array_col'\n",
       "    var: 'gene_ids', 'feature_types', 'genome'\n",
       "    uns: 'spatial'\n",
       "    obsm: 'spatial'"
      ]
     },
     "execution_count": 4,
     "metadata": {},
     "output_type": "execute_result"
    }
   ],
   "source": [
    "sc.datasets.visium_sge(sample_id=\"V1_Human_Lymph_Node\")"
   ]
  },
  {
   "cell_type": "markdown",
   "metadata": {},
   "source": [
    "## decoupleR"
   ]
  },
  {
   "cell_type": "code",
   "execution_count": 5,
   "metadata": {},
   "outputs": [
    {
     "name": "stdout",
     "output_type": "stream",
     "text": [
      "Requirement already satisfied: decoupler in /Library/Frameworks/Python.framework/Versions/3.8/lib/python3.8/site-packages (1.5.0)\n",
      "Requirement already satisfied: numba in /Library/Frameworks/Python.framework/Versions/3.8/lib/python3.8/site-packages (from decoupler) (0.52.0)\n",
      "Requirement already satisfied: tqdm in /Library/Frameworks/Python.framework/Versions/3.8/lib/python3.8/site-packages (from decoupler) (4.66.1)\n",
      "Requirement already satisfied: anndata in /Library/Frameworks/Python.framework/Versions/3.8/lib/python3.8/site-packages (from decoupler) (0.9.2)\n",
      "Requirement already satisfied: typing-extensions in /Library/Frameworks/Python.framework/Versions/3.8/lib/python3.8/site-packages (from decoupler) (4.7.1)\n",
      "Requirement already satisfied: pandas!=2.0.1,>=1.1.1 in /Library/Frameworks/Python.framework/Versions/3.8/lib/python3.8/site-packages (from anndata->decoupler) (2.0.3)\n",
      "Requirement already satisfied: numpy>=1.16.5 in /Library/Frameworks/Python.framework/Versions/3.8/lib/python3.8/site-packages (from anndata->decoupler) (1.22.4)\n",
      "Requirement already satisfied: scipy>1.4 in /Library/Frameworks/Python.framework/Versions/3.8/lib/python3.8/site-packages (from anndata->decoupler) (1.10.1)\n",
      "Requirement already satisfied: h5py>=3 in /Library/Frameworks/Python.framework/Versions/3.8/lib/python3.8/site-packages (from anndata->decoupler) (3.9.0)\n",
      "Requirement already satisfied: natsort in /Library/Frameworks/Python.framework/Versions/3.8/lib/python3.8/site-packages (from anndata->decoupler) (8.4.0)\n",
      "Requirement already satisfied: packaging>=20 in /Library/Frameworks/Python.framework/Versions/3.8/lib/python3.8/site-packages (from anndata->decoupler) (20.8)\n",
      "Requirement already satisfied: llvmlite<0.36,>=0.35.0 in /Library/Frameworks/Python.framework/Versions/3.8/lib/python3.8/site-packages (from numba->decoupler) (0.35.0)\n",
      "Requirement already satisfied: setuptools in /Library/Frameworks/Python.framework/Versions/3.8/lib/python3.8/site-packages (from numba->decoupler) (47.1.0)\n",
      "Requirement already satisfied: pyparsing>=2.0.2 in /Library/Frameworks/Python.framework/Versions/3.8/lib/python3.8/site-packages (from packaging>=20->anndata->decoupler) (2.4.7)\n",
      "Requirement already satisfied: python-dateutil>=2.8.2 in /Library/Frameworks/Python.framework/Versions/3.8/lib/python3.8/site-packages (from pandas!=2.0.1,>=1.1.1->anndata->decoupler) (2.8.2)\n",
      "Requirement already satisfied: pytz>=2020.1 in /Library/Frameworks/Python.framework/Versions/3.8/lib/python3.8/site-packages (from pandas!=2.0.1,>=1.1.1->anndata->decoupler) (2023.3)\n",
      "Requirement already satisfied: tzdata>=2022.1 in /Library/Frameworks/Python.framework/Versions/3.8/lib/python3.8/site-packages (from pandas!=2.0.1,>=1.1.1->anndata->decoupler) (2023.3)\n",
      "Requirement already satisfied: six>=1.5 in /Library/Frameworks/Python.framework/Versions/3.8/lib/python3.8/site-packages (from python-dateutil>=2.8.2->pandas!=2.0.1,>=1.1.1->anndata->decoupler) (1.15.0)\n",
      "\u001b[33mWARNING: Error parsing dependencies of pyzmq: Invalid version: 'cpython'\u001b[0m\u001b[33m\n",
      "\u001b[0mNote: you may need to restart the kernel to use updated packages.\n"
     ]
    }
   ],
   "source": [
    "pip install decoupler"
   ]
  },
  {
   "cell_type": "code",
   "execution_count": 6,
   "metadata": {},
   "outputs": [
    {
     "data": {
      "text/plain": [
       "'1.5.0'"
      ]
     },
     "execution_count": 6,
     "metadata": {},
     "output_type": "execute_result"
    }
   ],
   "source": [
    "import decoupler\n",
    "decoupler.__version__"
   ]
  },
  {
   "cell_type": "markdown",
   "metadata": {},
   "source": [
    "## pySCENIC"
   ]
  },
  {
   "cell_type": "code",
   "execution_count": 7,
   "metadata": {},
   "outputs": [
    {
     "name": "stdout",
     "output_type": "stream",
     "text": [
      "Requirement already satisfied: pyscenic in /Library/Frameworks/Python.framework/Versions/3.8/lib/python3.8/site-packages (0.12.1)\n",
      "Requirement already satisfied: ctxcore>=0.2.0 in /Library/Frameworks/Python.framework/Versions/3.8/lib/python3.8/site-packages (from pyscenic) (0.2.0)\n",
      "Requirement already satisfied: cytoolz in /Library/Frameworks/Python.framework/Versions/3.8/lib/python3.8/site-packages (from pyscenic) (0.12.3)\n",
      "Requirement already satisfied: multiprocessing-on-dill in /Library/Frameworks/Python.framework/Versions/3.8/lib/python3.8/site-packages (from pyscenic) (3.5.0a4)\n",
      "Requirement already satisfied: llvmlite in /Library/Frameworks/Python.framework/Versions/3.8/lib/python3.8/site-packages (from pyscenic) (0.35.0)\n",
      "Requirement already satisfied: numba>=0.51.2 in /Library/Frameworks/Python.framework/Versions/3.8/lib/python3.8/site-packages (from pyscenic) (0.52.0)\n",
      "Requirement already satisfied: attrs in /Library/Frameworks/Python.framework/Versions/3.8/lib/python3.8/site-packages (from pyscenic) (20.3.0)\n",
      "Requirement already satisfied: frozendict in /Library/Frameworks/Python.framework/Versions/3.8/lib/python3.8/site-packages (from pyscenic) (2.4.4)\n",
      "Requirement already satisfied: numpy in /Library/Frameworks/Python.framework/Versions/3.8/lib/python3.8/site-packages (from pyscenic) (1.22.4)\n",
      "Requirement already satisfied: pandas>=1.3.5 in /Library/Frameworks/Python.framework/Versions/3.8/lib/python3.8/site-packages (from pyscenic) (2.0.3)\n",
      "Requirement already satisfied: numexpr in /Library/Frameworks/Python.framework/Versions/3.8/lib/python3.8/site-packages (from pyscenic) (2.8.6)\n",
      "Requirement already satisfied: cloudpickle in /Library/Frameworks/Python.framework/Versions/3.8/lib/python3.8/site-packages (from pyscenic) (2.2.1)\n",
      "Requirement already satisfied: dask in /Library/Frameworks/Python.framework/Versions/3.8/lib/python3.8/site-packages (from pyscenic) (2023.5.0)\n",
      "Requirement already satisfied: distributed in /Library/Frameworks/Python.framework/Versions/3.8/lib/python3.8/site-packages (from pyscenic) (2023.5.0)\n",
      "Requirement already satisfied: arboreto>=0.1.6 in /Library/Frameworks/Python.framework/Versions/3.8/lib/python3.8/site-packages (from pyscenic) (0.1.6)\n",
      "Requirement already satisfied: boltons in /Library/Frameworks/Python.framework/Versions/3.8/lib/python3.8/site-packages (from pyscenic) (24.0.0)\n",
      "Requirement already satisfied: setuptools in /Library/Frameworks/Python.framework/Versions/3.8/lib/python3.8/site-packages (from pyscenic) (47.1.0)\n",
      "Requirement already satisfied: pyyaml in /Library/Frameworks/Python.framework/Versions/3.8/lib/python3.8/site-packages (from pyscenic) (6.0.1)\n",
      "Requirement already satisfied: tqdm in /Library/Frameworks/Python.framework/Versions/3.8/lib/python3.8/site-packages (from pyscenic) (4.66.1)\n",
      "Requirement already satisfied: interlap in /Library/Frameworks/Python.framework/Versions/3.8/lib/python3.8/site-packages (from pyscenic) (0.2.7)\n",
      "Requirement already satisfied: umap-learn in /Library/Frameworks/Python.framework/Versions/3.8/lib/python3.8/site-packages (from pyscenic) (0.4.1)\n",
      "Requirement already satisfied: loompy in /Library/Frameworks/Python.framework/Versions/3.8/lib/python3.8/site-packages (from pyscenic) (3.0.7)\n",
      "Requirement already satisfied: networkx in /Library/Frameworks/Python.framework/Versions/3.8/lib/python3.8/site-packages (from pyscenic) (3.1)\n",
      "Requirement already satisfied: scipy in /Library/Frameworks/Python.framework/Versions/3.8/lib/python3.8/site-packages (from pyscenic) (1.10.1)\n",
      "Requirement already satisfied: fsspec in /Library/Frameworks/Python.framework/Versions/3.8/lib/python3.8/site-packages (from pyscenic) (2023.6.0)\n",
      "Requirement already satisfied: requests in /Library/Frameworks/Python.framework/Versions/3.8/lib/python3.8/site-packages (from pyscenic) (2.31.0)\n",
      "Requirement already satisfied: aiohttp in /Library/Frameworks/Python.framework/Versions/3.8/lib/python3.8/site-packages (from pyscenic) (3.8.5)\n",
      "Requirement already satisfied: scikit-learn>=0.22.2 in /Library/Frameworks/Python.framework/Versions/3.8/lib/python3.8/site-packages (from pyscenic) (1.3.2)\n",
      "Requirement already satisfied: pyarrow>=8.0.0 in /Library/Frameworks/Python.framework/Versions/3.8/lib/python3.8/site-packages (from ctxcore>=0.2.0->pyscenic) (16.0.0)\n",
      "Requirement already satisfied: python-dateutil>=2.8.2 in /Library/Frameworks/Python.framework/Versions/3.8/lib/python3.8/site-packages (from pandas>=1.3.5->pyscenic) (2.8.2)\n",
      "Requirement already satisfied: pytz>=2020.1 in /Library/Frameworks/Python.framework/Versions/3.8/lib/python3.8/site-packages (from pandas>=1.3.5->pyscenic) (2023.3)\n",
      "Requirement already satisfied: tzdata>=2022.1 in /Library/Frameworks/Python.framework/Versions/3.8/lib/python3.8/site-packages (from pandas>=1.3.5->pyscenic) (2023.3)\n",
      "Requirement already satisfied: joblib>=1.1.1 in /Library/Frameworks/Python.framework/Versions/3.8/lib/python3.8/site-packages (from scikit-learn>=0.22.2->pyscenic) (1.3.2)\n",
      "Requirement already satisfied: threadpoolctl>=2.0.0 in /Library/Frameworks/Python.framework/Versions/3.8/lib/python3.8/site-packages (from scikit-learn>=0.22.2->pyscenic) (3.2.0)\n",
      "Requirement already satisfied: charset-normalizer<4.0,>=2.0 in /Library/Frameworks/Python.framework/Versions/3.8/lib/python3.8/site-packages (from aiohttp->pyscenic) (3.2.0)\n",
      "Requirement already satisfied: multidict<7.0,>=4.5 in /Library/Frameworks/Python.framework/Versions/3.8/lib/python3.8/site-packages (from aiohttp->pyscenic) (6.0.4)\n",
      "Requirement already satisfied: async-timeout<5.0,>=4.0.0a3 in /Library/Frameworks/Python.framework/Versions/3.8/lib/python3.8/site-packages (from aiohttp->pyscenic) (4.0.3)\n",
      "Requirement already satisfied: yarl<2.0,>=1.0 in /Library/Frameworks/Python.framework/Versions/3.8/lib/python3.8/site-packages (from aiohttp->pyscenic) (1.9.2)\n",
      "Requirement already satisfied: frozenlist>=1.1.1 in /Library/Frameworks/Python.framework/Versions/3.8/lib/python3.8/site-packages (from aiohttp->pyscenic) (1.4.0)\n",
      "Requirement already satisfied: aiosignal>=1.1.2 in /Library/Frameworks/Python.framework/Versions/3.8/lib/python3.8/site-packages (from aiohttp->pyscenic) (1.3.1)\n",
      "Requirement already satisfied: toolz>=0.8.0 in /Library/Frameworks/Python.framework/Versions/3.8/lib/python3.8/site-packages (from cytoolz->pyscenic) (0.12.0)\n",
      "Requirement already satisfied: click>=8.0 in /Library/Frameworks/Python.framework/Versions/3.8/lib/python3.8/site-packages (from dask->pyscenic) (8.1.7)\n",
      "Requirement already satisfied: packaging>=20.0 in /Library/Frameworks/Python.framework/Versions/3.8/lib/python3.8/site-packages (from dask->pyscenic) (20.8)\n",
      "Requirement already satisfied: partd>=1.2.0 in /Library/Frameworks/Python.framework/Versions/3.8/lib/python3.8/site-packages (from dask->pyscenic) (1.4.0)\n",
      "Requirement already satisfied: importlib-metadata>=4.13.0 in /Library/Frameworks/Python.framework/Versions/3.8/lib/python3.8/site-packages (from dask->pyscenic) (6.8.0)\n",
      "Requirement already satisfied: jinja2>=2.10.3 in /Library/Frameworks/Python.framework/Versions/3.8/lib/python3.8/site-packages (from distributed->pyscenic) (2.11.2)\n",
      "Requirement already satisfied: locket>=1.0.0 in /Library/Frameworks/Python.framework/Versions/3.8/lib/python3.8/site-packages (from distributed->pyscenic) (1.0.0)\n",
      "Requirement already satisfied: msgpack>=1.0.0 in /Library/Frameworks/Python.framework/Versions/3.8/lib/python3.8/site-packages (from distributed->pyscenic) (1.0.8)\n",
      "Requirement already satisfied: psutil>=5.7.0 in /Library/Frameworks/Python.framework/Versions/3.8/lib/python3.8/site-packages (from distributed->pyscenic) (6.0.0)\n",
      "Requirement already satisfied: sortedcontainers>=2.0.5 in /Library/Frameworks/Python.framework/Versions/3.8/lib/python3.8/site-packages (from distributed->pyscenic) (2.4.0)\n",
      "Requirement already satisfied: tblib>=1.6.0 in /Library/Frameworks/Python.framework/Versions/3.8/lib/python3.8/site-packages (from distributed->pyscenic) (3.0.0)\n",
      "Requirement already satisfied: tornado>=6.0.3 in /Library/Frameworks/Python.framework/Versions/3.8/lib/python3.8/site-packages (from distributed->pyscenic) (6.1)\n",
      "Requirement already satisfied: urllib3>=1.24.3 in /Library/Frameworks/Python.framework/Versions/3.8/lib/python3.8/site-packages (from distributed->pyscenic) (2.0.4)\n",
      "Requirement already satisfied: zict>=2.2.0 in /Library/Frameworks/Python.framework/Versions/3.8/lib/python3.8/site-packages (from distributed->pyscenic) (3.0.0)\n",
      "Requirement already satisfied: h5py in /Library/Frameworks/Python.framework/Versions/3.8/lib/python3.8/site-packages (from loompy->pyscenic) (3.9.0)\n",
      "Requirement already satisfied: numpy-groupies in /Library/Frameworks/Python.framework/Versions/3.8/lib/python3.8/site-packages (from loompy->pyscenic) (0.9.22)\n",
      "Requirement already satisfied: dill in /Library/Frameworks/Python.framework/Versions/3.8/lib/python3.8/site-packages (from multiprocessing-on-dill->pyscenic) (0.3.8)\n",
      "Requirement already satisfied: idna<4,>=2.5 in /Library/Frameworks/Python.framework/Versions/3.8/lib/python3.8/site-packages (from requests->pyscenic) (3.4)\n",
      "Requirement already satisfied: certifi>=2017.4.17 in /Library/Frameworks/Python.framework/Versions/3.8/lib/python3.8/site-packages (from requests->pyscenic) (2023.7.22)\n",
      "Requirement already satisfied: tbb>=2019.0 in /Library/Frameworks/Python.framework/Versions/3.8/lib/python3.8/site-packages (from umap-learn->pyscenic) (2021.10.0)\n",
      "Requirement already satisfied: zipp>=0.5 in /Library/Frameworks/Python.framework/Versions/3.8/lib/python3.8/site-packages (from importlib-metadata>=4.13.0->dask->pyscenic) (3.16.2)\n"
     ]
    },
    {
     "name": "stdout",
     "output_type": "stream",
     "text": [
      "Requirement already satisfied: MarkupSafe>=0.23 in /Library/Frameworks/Python.framework/Versions/3.8/lib/python3.8/site-packages (from jinja2>=2.10.3->distributed->pyscenic) (1.1.1)\n",
      "Requirement already satisfied: pyparsing>=2.0.2 in /Library/Frameworks/Python.framework/Versions/3.8/lib/python3.8/site-packages (from packaging>=20.0->dask->pyscenic) (2.4.7)\n",
      "Requirement already satisfied: six>=1.5 in /Library/Frameworks/Python.framework/Versions/3.8/lib/python3.8/site-packages (from python-dateutil>=2.8.2->pandas>=1.3.5->pyscenic) (1.15.0)\n",
      "Requirement already satisfied: lz4>=4.3.2 in /Library/Frameworks/Python.framework/Versions/3.8/lib/python3.8/site-packages (from dask[complete]->arboreto>=0.1.6->pyscenic) (4.3.3)\n",
      "Requirement already satisfied: bokeh>=2.4.2 in /Library/Frameworks/Python.framework/Versions/3.8/lib/python3.8/site-packages (from dask->pyscenic) (3.1.1)\n",
      "Requirement already satisfied: contourpy>=1 in /Library/Frameworks/Python.framework/Versions/3.8/lib/python3.8/site-packages (from bokeh>=2.4.2->dask->pyscenic) (1.1.0)\n",
      "Requirement already satisfied: pillow>=7.1.0 in /Library/Frameworks/Python.framework/Versions/3.8/lib/python3.8/site-packages (from bokeh>=2.4.2->dask->pyscenic) (10.0.0)\n",
      "Requirement already satisfied: xyzservices>=2021.09.1 in /Library/Frameworks/Python.framework/Versions/3.8/lib/python3.8/site-packages (from bokeh>=2.4.2->dask->pyscenic) (2024.6.0)\n",
      "\u001b[33mWARNING: Error parsing dependencies of pyzmq: Invalid version: 'cpython'\u001b[0m\u001b[33m\n",
      "\u001b[0mNote: you may need to restart the kernel to use updated packages.\n"
     ]
    }
   ],
   "source": [
    "pip install pyscenic"
   ]
  },
  {
   "cell_type": "code",
   "execution_count": 8,
   "metadata": {},
   "outputs": [
    {
     "data": {
      "text/plain": [
       "'0.12.1'"
      ]
     },
     "execution_count": 8,
     "metadata": {},
     "output_type": "execute_result"
    }
   ],
   "source": [
    "import pyscenic\n",
    "pyscenic.__version__"
   ]
  },
  {
   "cell_type": "markdown",
   "metadata": {},
   "source": [
    "### Downloading resources and databases"
   ]
  },
  {
   "cell_type": "code",
   "execution_count": 9,
   "metadata": {},
   "outputs": [
    {
     "name": "stdout",
     "output_type": "stream",
     "text": [
      "  % Total    % Received % Xferd  Average Speed   Time    Time     Time  Current\n",
      "                                 Dload  Upload   Total   Spent    Left  Speed\n",
      "100 11690  100 11690    0     0   9482      0  0:00:01  0:00:01 --:--:--  9504\n",
      "  % Total    % Received % Xferd  Average Speed   Time    Time     Time  Current\n",
      "                                 Dload  Upload   Total   Spent    Left  Speed\n",
      "100 94.1M  100 94.1M    0     0   814k      0  0:01:58  0:01:58 --:--:-- 2559k0     0   622k      0  0:02:34  0:00:28  0:02:06  134k0     0   452k      0  0:03:33  0:00:40  0:02:53 5771204:07  0:00:48  0:03:19 76785  0     0   377k      0  0:04:15  0:00:50  0:03:25 784672k      0  0:04:50  0:01:01  0:03:49  143k    0   311k      0  0:05:09  0:01:08  0:04:01  106k   0     0   272k      0  0:05:53  0:01:27  0:04:26  145k 0   271k      0  0:05:54  0:01:28  0:04:26  153k91k      0  0:05:31  0:01:33  0:03:58  628k 0   642k      0  0:02:29  0:01:48  0:00:41 2591k\n"
     ]
    }
   ],
   "source": [
    "!mkdir resources_pyscenic\n",
    "!curl https://resources.aertslab.org/cistarget/tf_lists/allTFs_hg38.txt \\\n",
    "    -o resources_pyscenic/allTFs_hg38.txt\n",
    "!curl https://resources.aertslab.org/cistarget/motif2tf/motifs-v10nr_clust-nr.hgnc-m0.001-o0.0.tbl \\\n",
    "    -o resources_pyscenic/motifs-v10nr_clust-nr.hgnc-m0.001-o0.0.tbl\n",
    "!curl https://resources.aertslab.org/cistarget/databases/homo_sapiens/hg38/refseq_r80/mc_v10_clust/gene_based/hg38_10kbp_up_10kbp_down_full_tx_v10_clust.genes_vs_motifs.rankings.feather \\\n",
    "    -o resources_pyscenic/hg38_10kbp_up_10kbp_down_full_tx_v10_clust.genes_vs_motifs.rankings.feather\n",
    "!curl https://resources.aertslab.org/cistarget/databases/homo_sapiens/hg38/refseq_r80/mc_v10_clust/gene_based/hg38_500bp_up_100bp_down_full_tx_v10_clust.genes_vs_motifs.rankings.feather \\\n",
    "    -o resources_pyscenic/hg38_500bp_up_100bp_down_full_tx_v10_clust.genes_vs_motifs.rankings.feather"
   ]
  },
  {
   "cell_type": "markdown",
   "metadata": {},
   "source": [
    "## STAN\n",
    "Install additional packages to support STAN."
   ]
  },
  {
   "cell_type": "code",
   "execution_count": 10,
   "metadata": {},
   "outputs": [
    {
     "name": "stdout",
     "output_type": "stream",
     "text": [
      "\u001b[31mERROR: Ignored the following versions that require a different python version: 1.3.0 Requires-Python >=3.9; 1.3.1 Requires-Python >=3.9; 1.4.0 Requires-Python >=3.9; 1.4.1 Requires-Python >=3.9; 1.5.0 Requires-Python >=3.9\u001b[0m\u001b[31m\n",
      "\u001b[0m\u001b[31mERROR: Could not find a version that satisfies the requirement squidpy==1.5.0 (from versions: 1.0.0, 1.0.1, 1.1.0, 1.1.1, 1.1.2, 1.2.0, 1.2.1, 1.2.2, 1.2.3)\u001b[0m\u001b[31m\n",
      "\u001b[0m\u001b[31mERROR: No matching distribution found for squidpy==1.5.0\u001b[0m\u001b[31m\n",
      "\u001b[0mNote: you may need to restart the kernel to use updated packages.\n"
     ]
    }
   ],
   "source": [
    "pip install squidpy==1.5.0"
   ]
  },
  {
   "cell_type": "code",
   "execution_count": 11,
   "metadata": {},
   "outputs": [
    {
     "data": {
      "text/plain": [
       "'1.2.3'"
      ]
     },
     "execution_count": 11,
     "metadata": {},
     "output_type": "execute_result"
    }
   ],
   "source": [
    "import squidpy\n",
    "squidpy.__version__"
   ]
  },
  {
   "cell_type": "code",
   "execution_count": 12,
   "metadata": {},
   "outputs": [
    {
     "name": "stdout",
     "output_type": "stream",
     "text": [
      "\u001b[31mERROR: Ignored the following versions that require a different python version: 0.14.2 Requires-Python >=3.9\u001b[0m\u001b[31m\n",
      "\u001b[0m\u001b[31mERROR: Could not find a version that satisfies the requirement statsmodels==0.14.2 (from versions: 0.4.0, 0.4.1, 0.4.3, 0.5.0rc1, 0.5.0, 0.6.0rc1, 0.6.0rc2, 0.6.0, 0.6.1, 0.8.0rc1, 0.8.0, 0.9.0rc1, 0.9.0, 0.10.0rc2, 0.10.0, 0.10.1, 0.10.2, 0.11.0rc1, 0.11.0rc2, 0.11.0, 0.11.1, 0.12.0rc0, 0.12.0, 0.12.1, 0.12.2, 0.13.0rc0, 0.13.0, 0.13.1, 0.13.2, 0.13.3, 0.13.4, 0.13.5, 0.14.0rc0, 0.14.0, 0.14.1)\u001b[0m\u001b[31m\n",
      "\u001b[0m\u001b[31mERROR: No matching distribution found for statsmodels==0.14.2\u001b[0m\u001b[31m\n",
      "\u001b[0mNote: you may need to restart the kernel to use updated packages.\n"
     ]
    }
   ],
   "source": [
    "pip install statsmodels==0.14.2"
   ]
  },
  {
   "cell_type": "code",
   "execution_count": 13,
   "metadata": {},
   "outputs": [
    {
     "data": {
      "text/plain": [
       "'0.14.0'"
      ]
     },
     "execution_count": 13,
     "metadata": {},
     "output_type": "execute_result"
    }
   ],
   "source": [
    "import statsmodels\n",
    "statsmodels.__version__"
   ]
  },
  {
   "cell_type": "markdown",
   "metadata": {},
   "source": [
    "### Downloading supporting files"
   ]
  },
  {
   "cell_type": "code",
   "execution_count": 15,
   "metadata": {},
   "outputs": [
    {
     "name": "stdout",
     "output_type": "stream",
     "text": [
      "  % Total    % Received % Xferd  Average Speed   Time    Time     Time  Current\n",
      "                                 Dload  Upload   Total   Spent    Left  Speed\n",
      "100 2660k  100 2660k    0     0   593k      0  0:00:04  0:00:04 --:--:--  593k\n",
      "  % Total    % Received % Xferd  Average Speed   Time    Time     Time  Current\n",
      "                                 Dload  Upload   Total   Spent    Left  Speed\n",
      "100 81467  100 81467    0     0   236k      0 --:--:-- --:--:-- --:--:--  239k\n"
     ]
    }
   ],
   "source": [
    "!mkdir resources_stan\n",
    "!curl https://raw.githubusercontent.com/vitkl/cell2location_paper/1c645a0519f8f27ecef18468cf339d35d99f42e7/notebooks/selected_results/lymph_nodes_analysis/CoLocationModelNB4V2_34clusters_4039locations_10241genes_input_inferred_V4_batch1024_l2_0001_n_comb50_5_cps5_fpc3_alpha001/W_cell_density.csv \\\n",
    "    -o resources_stan/W_cell_density.csv\n",
    "!curl https://raw.githubusercontent.com/vitkl/cell2location_paper/1c645a0519f8f27ecef18468cf339d35d99f42e7/notebooks/selected_results/lymph_nodes_analysis/CoLocationModelNB4V2_34clusters_4039locations_10241genes_input_inferred_V4_batch1024_l2_0001_n_comb50_5_cps5_fpc3_alpha001/manual_GC_annot.csv \\\n",
    "    -o resources_stan/manual_GC_annot.csv"
   ]
  },
  {
   "cell_type": "code",
   "execution_count": 14,
   "metadata": {},
   "outputs": [
    {
     "data": {
      "text/html": [
       "<details>\n",
       "<summary>Click to view session information</summary>\n",
       "<pre>\n",
       "-----\n",
       "anndata             0.9.2\n",
       "decoupler           1.5.0\n",
       "pyscenic            0.12.1\n",
       "scanpy              1.9.4\n",
       "session_info        1.0.0\n",
       "squidpy             1.2.3\n",
       "statsmodels         0.14.0\n",
       "-----\n",
       "</pre>\n",
       "<details>\n",
       "<summary>Click to view modules imported as dependencies</summary>\n",
       "<pre>\n",
       "PIL                 10.0.0\n",
       "appnope             0.1.2\n",
       "asciitree           NA\n",
       "backcall            0.2.0\n",
       "certifi             2023.07.22\n",
       "cffi                1.14.4\n",
       "cloudpickle         2.2.1\n",
       "cycler              0.10.0\n",
       "cython_runtime      NA\n",
       "cytoolz             0.12.3\n",
       "dask                2023.5.0\n",
       "dask_image          2023.03.0\n",
       "dateutil            2.8.2\n",
       "decorator           4.4.2\n",
       "defusedxml          0.6.0\n",
       "dill                0.3.8\n",
       "docrep              0.3.2\n",
       "entrypoints         0.3\n",
       "fasteners           0.18\n",
       "h5py                3.9.0\n",
       "igraph              0.10.6\n",
       "imageio             2.31.2\n",
       "importlib_metadata  NA\n",
       "importlib_resources NA\n",
       "ipykernel           5.4.2\n",
       "ipython_genutils    0.2.0\n",
       "jedi                0.18.0\n",
       "jinja2              2.11.2\n",
       "joblib              1.3.2\n",
       "kiwisolver          1.4.5\n",
       "lazy_loader         NA\n",
       "leidenalg           0.10.1\n",
       "llvmlite            0.35.0\n",
       "lz4                 4.3.3\n",
       "markupsafe          1.1.1\n",
       "matplotlib          3.7.2\n",
       "matplotlib_scalebar 0.8.1\n",
       "mpl_toolkits        NA\n",
       "msgpack             1.0.8\n",
       "natsort             8.4.0\n",
       "networkx            3.1\n",
       "numba               0.52.0\n",
       "numcodecs           0.11.0\n",
       "numexpr             2.8.6\n",
       "numpy               1.22.4\n",
       "packaging           20.8\n",
       "pandas              2.0.3\n",
       "parso               0.8.1\n",
       "patsy               0.5.3\n",
       "pexpect             4.8.0\n",
       "pickle5             NA\n",
       "pickleshare         0.7.5\n",
       "pkg_resources       NA\n",
       "prompt_toolkit      3.0.8\n",
       "psutil              6.0.0\n",
       "ptyprocess          0.7.0\n",
       "pyarrow             16.0.0\n",
       "pycparser           2.20\n",
       "pygments            2.7.3\n",
       "pyparsing           2.4.7\n",
       "pytz                2023.3\n",
       "pywt                1.4.1\n",
       "scipy               1.10.1\n",
       "seaborn             0.12.2\n",
       "six                 1.15.0\n",
       "skimage             0.21.0\n",
       "sklearn             1.3.2\n",
       "storemagic          NA\n",
       "tblib               3.0.0\n",
       "texttable           1.6.7\n",
       "threadpoolctl       3.2.0\n",
       "tifffile            2023.7.10\n",
       "tlz                 0.12.3\n",
       "toolz               0.12.0\n",
       "torch               2.2.1\n",
       "torchgen            NA\n",
       "tornado             6.1\n",
       "tqdm                4.66.1\n",
       "traitlets           5.0.5\n",
       "typing_extensions   NA\n",
       "validators          0.21.2\n",
       "wcwidth             0.2.5\n",
       "xarray              2023.1.0\n",
       "yaml                6.0.1\n",
       "zarr                2.16.1\n",
       "zipp                NA\n",
       "zmq                 20.0.0\n",
       "</pre>\n",
       "</details> <!-- seems like this ends pre, so might as well be explicit -->\n",
       "<pre>\n",
       "-----\n",
       "IPython             7.19.0\n",
       "jupyter_client      6.1.7\n",
       "jupyter_core        4.7.0\n",
       "notebook            6.1.6\n",
       "-----\n",
       "Python 3.8.5 (v3.8.5:580fbb018f, Jul 20 2020, 12:11:27) [Clang 6.0 (clang-600.0.57)]\n",
       "macOS-10.16-x86_64-i386-64bit\n",
       "-----\n",
       "Session information updated at 2024-06-25 14:36\n",
       "</pre>\n",
       "</details>"
      ],
      "text/plain": [
       "<IPython.core.display.HTML object>"
      ]
     },
     "execution_count": 14,
     "metadata": {},
     "output_type": "execute_result"
    }
   ],
   "source": [
    "import session_info\n",
    "session_info.show()"
   ]
  },
  {
   "cell_type": "code",
   "execution_count": null,
   "metadata": {},
   "outputs": [],
   "source": []
  }
 ],
 "metadata": {
  "kernelspec": {
   "display_name": "Python 3",
   "language": "python",
   "name": "python3"
  },
  "language_info": {
   "codemirror_mode": {
    "name": "ipython",
    "version": 3
   },
   "file_extension": ".py",
   "mimetype": "text/x-python",
   "name": "python",
   "nbconvert_exporter": "python",
   "pygments_lexer": "ipython3",
   "version": "3.8.5"
  }
 },
 "nbformat": 4,
 "nbformat_minor": 4
}
